{
 "cells": [
  {
   "cell_type": "markdown",
   "metadata": {},
   "source": [
    "**This Jupyter Notebook is a very early draft but adding to github to track changes over time**\n",
    "\n",
    "# Resources\n",
    "- Guido and Müller, *Introduction to Machine Learning with Python*, Oct 2016 [[book](https://shop.oreilly.com/product/0636920030515.do)]. You can view this book online for free UW's license with Safari Online. Visit via http://lib.uw.edu with a logged in UW account and search for the book. You should see a \"View It\" option, which gives you instantaneous online access to the full book.\n",
    "- Andreas Müller, *Applied Machine Learning*, Spring 2019 [[website](https://www.cs.columbia.edu/~amueller/comsw4995s19/schedule/)]\n",
    "- Scikit Learn, *User Guide*, [[website](https://scikit-learn.org/stable/user_guide.html)]\n",
    "\n",
    "## TODO\n",
    "- generate timeseries data and show full pipeline (smoothing, feature extraction, classification)"
   ]
  },
  {
   "cell_type": "markdown",
   "metadata": {},
   "source": [
    "# K-Fold"
   ]
  },
  {
   "cell_type": "code",
   "execution_count": 10,
   "metadata": {},
   "outputs": [],
   "source": [
    "# Some general includes we need\n",
    "import numpy as np\n",
    "import pandas as pd"
   ]
  },
  {
   "cell_type": "code",
   "execution_count": 11,
   "metadata": {},
   "outputs": [],
   "source": [
    "# Some utility functions\n",
    "\n",
    "def print_folds(cross_validator, input_features, class_labels, trial_num):\n",
    "    # Iterate through and print out the splits\n",
    "    fold_cnt = 0\n",
    "    for train_idx, test_idx in skf.split(X, class_labels):\n",
    "        print(\"FOLD\", fold_cnt)\n",
    "        print(\"\\tTRAINING SET:\")\n",
    "        for i in train_idx:\n",
    "            print(\"\\t\\t{} {}\".format(class_labels[i], trial_num[i]))\n",
    "\n",
    "        print(\"\\tTEST SET:\")\n",
    "        for i in test_idx:\n",
    "            print(\"\\t\\t{} {}\".format(class_labels[i], trial_num[i]))\n",
    "        fold_cnt += 1"
   ]
  },
  {
   "cell_type": "code",
   "execution_count": 12,
   "metadata": {},
   "outputs": [
    {
     "data": {
      "text/html": [
       "<div>\n",
       "<style scoped>\n",
       "    .dataframe tbody tr th:only-of-type {\n",
       "        vertical-align: middle;\n",
       "    }\n",
       "\n",
       "    .dataframe tbody tr th {\n",
       "        vertical-align: top;\n",
       "    }\n",
       "\n",
       "    .dataframe thead th {\n",
       "        text-align: right;\n",
       "    }\n",
       "</style>\n",
       "<table border=\"1\" class=\"dataframe\">\n",
       "  <thead>\n",
       "    <tr style=\"text-align: right;\">\n",
       "      <th></th>\n",
       "      <th>feature1</th>\n",
       "      <th>feature2</th>\n",
       "      <th>TrialNum</th>\n",
       "      <th>ClassLabel</th>\n",
       "    </tr>\n",
       "  </thead>\n",
       "  <tbody>\n",
       "    <tr>\n",
       "      <th>0</th>\n",
       "      <td>1</td>\n",
       "      <td>2</td>\n",
       "      <td>1</td>\n",
       "      <td>At Rest</td>\n",
       "    </tr>\n",
       "    <tr>\n",
       "      <th>1</th>\n",
       "      <td>3</td>\n",
       "      <td>4</td>\n",
       "      <td>2</td>\n",
       "      <td>At Rest</td>\n",
       "    </tr>\n",
       "    <tr>\n",
       "      <th>2</th>\n",
       "      <td>1</td>\n",
       "      <td>2</td>\n",
       "      <td>3</td>\n",
       "      <td>At Rest</td>\n",
       "    </tr>\n",
       "    <tr>\n",
       "      <th>3</th>\n",
       "      <td>9</td>\n",
       "      <td>11</td>\n",
       "      <td>1</td>\n",
       "      <td>Baseball Throw</td>\n",
       "    </tr>\n",
       "    <tr>\n",
       "      <th>4</th>\n",
       "      <td>1</td>\n",
       "      <td>2</td>\n",
       "      <td>2</td>\n",
       "      <td>Baseball Throw</td>\n",
       "    </tr>\n",
       "    <tr>\n",
       "      <th>5</th>\n",
       "      <td>3</td>\n",
       "      <td>4</td>\n",
       "      <td>3</td>\n",
       "      <td>Baseball Throw</td>\n",
       "    </tr>\n",
       "  </tbody>\n",
       "</table>\n",
       "</div>"
      ],
      "text/plain": [
       "   feature1  feature2  TrialNum      ClassLabel\n",
       "0         1         2         1         At Rest\n",
       "1         3         4         2         At Rest\n",
       "2         1         2         3         At Rest\n",
       "3         9        11         1  Baseball Throw\n",
       "4         1         2         2  Baseball Throw\n",
       "5         3         4         3  Baseball Throw"
      ]
     },
     "metadata": {},
     "output_type": "display_data"
    }
   ],
   "source": [
    "# Setup the test data\n",
    "# X is our full dataset\n",
    "X = np.array([[1, 2], [3, 4], [1, 2], [9, 11], [1, 2], [3, 4]])\n",
    "\n",
    "# Y contains our class labels for the dataset\n",
    "class_labels = np.array([\"At Rest\", \"At Rest\", \"At Rest\", \"Baseball Throw\", \"Baseball Throw\", \"Baseball Throw\"])\n",
    "trial_num = np.array([1,2,3,1,2,3])\n",
    "feature_names = [\"feature1\", \"feature2\"]\n",
    "\n",
    "# Make X and Y into a Dataframe so we can print it out nicely :)\n",
    "df = pd.DataFrame(X, columns=feature_names)\n",
    "df['TrialNum'] = trial_num\n",
    "df['ClassLabel'] = class_labels\n",
    "\n",
    "display(df)\n",
    "\n",
    "\n"
   ]
  },
  {
   "cell_type": "code",
   "execution_count": 15,
   "metadata": {},
   "outputs": [
    {
     "name": "stdout",
     "output_type": "stream",
     "text": [
      "KFold(n_splits=3, random_state=None, shuffle=False)\n",
      "FOLD 0\n",
      "\tTRAINING SET:\n",
      "\t\tAt Rest 3\n",
      "\t\tBaseball Throw 1\n",
      "\t\tBaseball Throw 2\n",
      "\t\tBaseball Throw 3\n",
      "\tTEST SET:\n",
      "\t\tAt Rest 1\n",
      "\t\tAt Rest 2\n",
      "FOLD 1\n",
      "\tTRAINING SET:\n",
      "\t\tAt Rest 1\n",
      "\t\tAt Rest 2\n",
      "\t\tBaseball Throw 2\n",
      "\t\tBaseball Throw 3\n",
      "\tTEST SET:\n",
      "\t\tAt Rest 3\n",
      "\t\tBaseball Throw 1\n",
      "FOLD 2\n",
      "\tTRAINING SET:\n",
      "\t\tAt Rest 1\n",
      "\t\tAt Rest 2\n",
      "\t\tAt Rest 3\n",
      "\t\tBaseball Throw 1\n",
      "\tTEST SET:\n",
      "\t\tBaseball Throw 2\n",
      "\t\tBaseball Throw 3\n"
     ]
    }
   ],
   "source": [
    "from sklearn.model_selection import KFold\n",
    "\n",
    "# Set the number of folds\n",
    "num_folds = 3\n",
    "skf = KFold(n_splits=num_folds)\n",
    " \n",
    "print(skf) # print out the KFold settings\n",
    "print_folds(skf, X, class_labels, trial_num)"
   ]
  },
  {
   "cell_type": "code",
   "execution_count": 16,
   "metadata": {},
   "outputs": [
    {
     "name": "stdout",
     "output_type": "stream",
     "text": [
      "KFold(n_splits=3, random_state=None, shuffle=True)\n",
      "FOLD 0\n",
      "\tTRAINING SET:\n",
      "\t\tAt Rest 2\n",
      "\t\tAt Rest 3\n",
      "\t\tBaseball Throw 2\n",
      "\t\tBaseball Throw 3\n",
      "\tTEST SET:\n",
      "\t\tAt Rest 1\n",
      "\t\tBaseball Throw 1\n",
      "FOLD 1\n",
      "\tTRAINING SET:\n",
      "\t\tAt Rest 1\n",
      "\t\tAt Rest 2\n",
      "\t\tAt Rest 3\n",
      "\t\tBaseball Throw 1\n",
      "\tTEST SET:\n",
      "\t\tBaseball Throw 2\n",
      "\t\tBaseball Throw 3\n",
      "FOLD 2\n",
      "\tTRAINING SET:\n",
      "\t\tAt Rest 1\n",
      "\t\tBaseball Throw 1\n",
      "\t\tBaseball Throw 2\n",
      "\t\tBaseball Throw 3\n",
      "\tTEST SET:\n",
      "\t\tAt Rest 2\n",
      "\t\tAt Rest 3\n"
     ]
    }
   ],
   "source": [
    "# Set the number of folds but this time shuffle them!\n",
    "skf = KFold(n_splits=num_folds, shuffle=True)\n",
    " \n",
    "print(skf) # print out the KFold settings\n",
    "print_folds(skf, X, class_labels, trial_num)\n",
    "\n",
    "# But we still have a problem because are training and test sets are imbalanced"
   ]
  },
  {
   "cell_type": "code",
   "execution_count": null,
   "metadata": {},
   "outputs": [],
   "source": [
    "# So, we use stratified k-fold to balance our classes between folds\n",
    "skf = StratifiedKFold(n_splits=num_folds, shuffle=True)\n",
    "print_folds(skf, X, class_labels, trial_num)\n"
   ]
  },
  {
   "cell_type": "code",
   "execution_count": null,
   "metadata": {},
   "outputs": [],
   "source": [
    "# See: https://scikit-learn.org/stable/modules/cross_validation.html#cross-validation\n",
    "import numpy as np\n",
    "from sklearn.model_selection import train_test_split\n",
    "from sklearn import datasets\n",
    "from sklearn import svm\n",
    "\n",
    "iris = datasets.load_iris()\n",
    "iris.data.shape, iris.target.shape\n",
    "#print(type(iris.data[0]), iris.target[0])\n",
    "iris.feature_names"
   ]
  },
  {
   "cell_type": "code",
   "execution_count": null,
   "metadata": {},
   "outputs": [],
   "source": [
    "# Pandas\n",
    "# See: \n",
    "# - https://pandas.pydata.org/pandas-docs/stable/getting_started/10min.html\n",
    "# - DataFrames from Python structures: https://pbpython.com/pandas-list-dict.html\n",
    "import pandas as pd\n",
    "\n",
    "# convert scikitlearn dataset to a pandas dataset\n",
    "data = datasets.load_iris()\n",
    "df = pd.DataFrame(data['data'], columns=data['feature_names'])\n",
    "df['target'] = data['target']\n",
    "df"
   ]
  },
  {
   "cell_type": "markdown",
   "metadata": {},
   "source": [
    "# Visualizing Features and Relationships"
   ]
  },
  {
   "cell_type": "markdown",
   "metadata": {},
   "source": [
    "## Pairplots"
   ]
  },
  {
   "cell_type": "code",
   "execution_count": null,
   "metadata": {},
   "outputs": [],
   "source": [
    "# Draw scatterplots for joint relationships and histograms for univariate distributions\n",
    "# See: https://seaborn.pydata.org/generated/seaborn.pairplot.html\n",
    "import seaborn as sns\n",
    "sns.set(style=\"ticks\", color_codes=True)\n",
    "iris = sns.load_dataset(\"iris\")\n",
    "g = sns.pairplot(iris)\n",
    "#print(iris)\n",
    "# type(iris)"
   ]
  },
  {
   "cell_type": "code",
   "execution_count": null,
   "metadata": {},
   "outputs": [],
   "source": [
    "# Show different levels of a categorical variable by the color of plot elements:\n",
    "g = sns.pairplot(iris, hue=\"species\")"
   ]
  },
  {
   "cell_type": "code",
   "execution_count": null,
   "metadata": {},
   "outputs": [],
   "source": [
    "# change the colors and use markers + plot distribitions along diagonal rather than histograms\n",
    "g = sns.pairplot(iris, hue=\"species\", diag_kind='kde', palette=\"husl\", markers=[\"o\", \"s\", \"D\"])"
   ]
  },
  {
   "cell_type": "markdown",
   "metadata": {},
   "source": [
    "# Parameter Tuning"
   ]
  },
  {
   "cell_type": "code",
   "execution_count": null,
   "metadata": {},
   "outputs": [],
   "source": [
    "# Parameter estimation using grid search with cross validation\n",
    "# From: https://scikit-learn.org/stable/auto_examples/model_selection/plot_grid_search_digits.html\n",
    "from sklearn import datasets\n",
    "from sklearn.model_selection import train_test_split\n",
    "from sklearn.model_selection import GridSearchCV\n",
    "from sklearn.metrics import classification_report\n",
    "from sklearn.svm import SVC\n",
    "\n",
    "print(__doc__)\n",
    "\n",
    "# Loading the Digits dataset\n",
    "digits = datasets.load_digits()\n",
    "\n",
    "# To apply an classifier on this data, we need to flatten the image, to\n",
    "# turn the data in a (samples, feature) matrix:\n",
    "n_samples = len(digits.images)\n",
    "X = digits.images.reshape((n_samples, -1))\n",
    "y = digits.target\n",
    "\n",
    "# Split the dataset in two equal parts\n",
    "X_train, X_test, y_train, y_test = train_test_split(\n",
    "    X, y, test_size=0.5, random_state=0)\n",
    "\n",
    "# Set the parameters by cross-validation\n",
    "tuned_parameters = [{'kernel': ['rbf'], 'gamma': [1e-3, 1e-4],\n",
    "                     'C': [1, 10, 100, 1000]},\n",
    "                    {'kernel': ['linear'], 'C': [1, 10, 100, 1000]}]\n",
    "\n",
    "scores = ['precision', 'recall']\n",
    "\n",
    "for score in scores:\n",
    "    print(\"# Tuning hyper-parameters for %s\" % score)\n",
    "    print()\n",
    "\n",
    "    clf = GridSearchCV(SVC(), tuned_parameters, cv=5,\n",
    "                       scoring='%s_macro' % score)\n",
    "    clf.fit(X_train, y_train)\n",
    "\n",
    "    print(\"Best parameters set found on development set:\")\n",
    "    print()\n",
    "    print(clf.best_params_)\n",
    "    print()\n",
    "    print(\"Grid scores on development set:\")\n",
    "    print()\n",
    "    means = clf.cv_results_['mean_test_score']\n",
    "    stds = clf.cv_results_['std_test_score']\n",
    "    for mean, std, params in zip(means, stds, clf.cv_results_['params']):\n",
    "        print(\"%0.3f (+/-%0.03f) for %r\"\n",
    "              % (mean, std * 2, params))\n",
    "    print()\n",
    "\n",
    "    print(\"Detailed classification report:\")\n",
    "    print()\n",
    "    print(\"The model is trained on the full development set.\")\n",
    "    print(\"The scores are computed on the full evaluation set.\")\n",
    "    print()\n",
    "    y_true, y_pred = y_test, clf.predict(X_test)\n",
    "    print(classification_report(y_true, y_pred))\n",
    "    print()\n",
    "\n",
    "# Note the problem is too easy: the hyperparameter plateau is too flat and the\n",
    "# output model is the same for precision and recall with ties in quality."
   ]
  },
  {
   "cell_type": "code",
   "execution_count": null,
   "metadata": {},
   "outputs": [],
   "source": []
  }
 ],
 "metadata": {
  "kernelspec": {
   "display_name": "Python 3",
   "language": "python",
   "name": "python3"
  },
  "language_info": {
   "codemirror_mode": {
    "name": "ipython",
    "version": 3
   },
   "file_extension": ".py",
   "mimetype": "text/x-python",
   "name": "python",
   "nbconvert_exporter": "python",
   "pygments_lexer": "ipython3",
   "version": "3.6.8"
  }
 },
 "nbformat": 4,
 "nbformat_minor": 2
}
